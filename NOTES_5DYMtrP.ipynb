{
 "cells": [
  {
   "cell_type": "markdown",
   "metadata": {},
   "source": [
    "# Hosotani Mechanism Study\n",
    "\n",
    "### U(1) *C++* study\n",
    "\n",
    "* Coded a simple C++ version to do Metropolis updates in 4D U(1).\n",
    "* Reproduced $<{\\rm plaq}>$ v. $\\beta$ plots from ...\n",
    "* Added magnetic flux\n",
    "* Showed susceptibility of magnetic fields.\n",
    "* At $T_c$ ($\\beta_c$) monopoles condense and magnetic fields are screened.\n",
    "\n",
    "### U(1) *MILC* study\n",
    "\n",
    "* Embeded U(1) in MILC SU(3) matrix.\n",
    "* Reproduced $<{\\rm plaq}>$ v. $\\beta$ plots.\n",
    "* Added Flux\n",
    "* See magnetic screening\n",
    "\n",
    "### SU(3) *Tr(P)* study\n",
    "\n",
    "* Coded Wilson action SU(3) metropolis update with $-h \\cdot {\\rm Tr}_{\\rm adj} P(x)$\n",
    "\n",
    "\n",
    "\n",
    "### 5DYMtrP: YM in 5-dimenions, with *Tr(P)*\n",
    "\n",
    "This project explores the Hosotani Mechanism in a more realistic setting:\n",
    "\n",
    "* 5-dimensional Pure Yang-Mills gauge theory, with an $h\\cdot {\\rm Tr}_{\\rm adj} P(x)$ term added to the action to *mimic* adjoint fermions with periodic B.C.'s.\n"
   ]
  },
  {
   "cell_type": "markdown",
   "metadata": {},
   "source": [
    "## The phase diagram of the *Tr(P)* from [Myers and Ogilvie](https://arxiv.org/abs/0707.1869)\n",
    "\n",
    "According to Joyce Myers and Mike Ogilvie, the phase diagram of the **4-dimensional, finite temperature** model with the $-h \\cdot {\\rm Tr}_{\\rm adj} P(x)$ term in the action, looks like this:\n",
    "\n",
    "![MO_phaseDiagram](hTrP_phaseDiagram_MeyersOgilvie.png)"
   ]
  },
  {
   "cell_type": "markdown",
   "metadata": {},
   "source": [
    "To test my code, I used this.\n",
    "\n",
    "* Confined: $<P_t>~ \\sim 0$\n",
    "* Deconfined: $<P_t>~ \\sim \\{~ 1,~ e^{i2\\pi/3},~ e^{-i2\\pi/3}~\\}$\n",
    "* Skewed: $<P_t>~ \\sim \\{~ -1/3,~ e^{i2\\pi/6},~ e^{-i2\\pi/6}~\\}$"
   ]
  },
  {
   "cell_type": "code",
   "execution_count": null,
   "metadata": {
    "collapsed": true
   },
   "outputs": [],
   "source": []
  }
 ],
 "metadata": {
  "kernelspec": {
   "display_name": "Python 3",
   "language": "python",
   "name": "python3"
  },
  "language_info": {
   "codemirror_mode": {
    "name": "ipython",
    "version": 3
   },
   "file_extension": ".py",
   "mimetype": "text/x-python",
   "name": "python",
   "nbconvert_exporter": "python",
   "pygments_lexer": "ipython3",
   "version": "3.6.0"
  }
 },
 "nbformat": 4,
 "nbformat_minor": 2
}
